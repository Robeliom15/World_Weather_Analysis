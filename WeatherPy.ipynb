{
 "cells": [
  {
   "cell_type": "code",
   "execution_count": 1,
   "id": "2ae5328a",
   "metadata": {},
   "outputs": [],
   "source": [
    "# Import the dependencies \n",
    "import pandas as pd\n",
    "import matplotlib as plt\n",
    "import numpy as np\n",
    "\n",
    "# Import the requests library.\n",
    "import requests\n",
    "\n",
    "# Import the API key.\n",
    "from config import weather_api_key\n",
    "\n",
    "# Import the time library and the datetime module from the datetime library \n",
    "import time\n",
    "from datetime import datetime\n",
    "\n",
    "# Use the citipy module to determine city based on latitude and longitude.\n",
    "from citipy import citipy"
   ]
  },
  {
   "cell_type": "code",
   "execution_count": 2,
   "id": "192508bc",
   "metadata": {},
   "outputs": [
    {
     "data": {
      "text/plain": [
       "<zip at 0x212d9f49880>"
      ]
     },
     "execution_count": 2,
     "metadata": {},
     "output_type": "execute_result"
    }
   ],
   "source": [
    "# Create a set of random latitude and longitude combinations.\n",
    "lats = np.random.uniform(low = -90.000, high = 90.000, size = 1500)\n",
    "lngs = np.random.uniform(low = -180.000, high = 180.000, size = 1500)\n",
    "lat_lngs = zip(lats, lngs)\n",
    "lat_lngs"
   ]
  },
  {
   "cell_type": "code",
   "execution_count": 3,
   "id": "a0eefe78",
   "metadata": {},
   "outputs": [],
   "source": [
    "# Add the latitudes abd longitudes to a list\n",
    "coordinates = list(lat_lngs)"
   ]
  },
  {
   "cell_type": "code",
   "execution_count": 4,
   "id": "45d86191",
   "metadata": {},
   "outputs": [
    {
     "data": {
      "text/plain": [
       "603"
      ]
     },
     "execution_count": 4,
     "metadata": {},
     "output_type": "execute_result"
    }
   ],
   "source": [
    "# Use the tuple() function to display the latitude and longitude combinations.\n",
    "cities = []\n",
    "# Use the tuple() function to display the latitude and longitude combinations.\n",
    "for coordinate in coordinates:\n",
    "    city = citipy.nearest_city(coordinate[0], coordinate[1]).city_name\n",
    "    \n",
    "    # If the city is unique, then add it to a our cities list\n",
    "    if city not in cities:\n",
    "        cities.append(city)\n",
    "\n",
    "# Print the city count to confirm sufficient count\n",
    "len(cities)"
   ]
  },
  {
   "cell_type": "code",
   "execution_count": 5,
   "id": "f37b0742",
   "metadata": {},
   "outputs": [
    {
     "name": "stdout",
     "output_type": "stream",
     "text": [
      "Beginning Data Retrieval     \n",
      "-----------------------------\n"
     ]
    }
   ],
   "source": [
    "# Create an empty list to hold the weather data.\n",
    "city_data = []\n",
    "# Print the beginning of the logging.\n",
    "print(\"Beginning Data Retrieval     \")\n",
    "print(\"-----------------------------\")\n",
    "# Create counters.\n",
    "record_count = 1\n",
    "set_count = 1"
   ]
  },
  {
   "cell_type": "code",
   "execution_count": 6,
   "id": "6186a731",
   "metadata": {},
   "outputs": [
    {
     "name": "stdout",
     "output_type": "stream",
     "text": [
      "http://api.openweathermap.org/data/2.5/weather?units=Imperial&APPID=e422f1b46ff65ddd19a2a1fe9686417c\n"
     ]
    }
   ],
   "source": [
    "# Starting URL for Weather Map API Call.\n",
    "url = \"http://api.openweathermap.org/data/2.5/weather?units=Imperial&APPID=\" + weather_api_key\n",
    "print(url)"
   ]
  },
  {
   "cell_type": "code",
   "execution_count": null,
   "id": "21b52a5c",
   "metadata": {},
   "outputs": [
    {
     "name": "stdout",
     "output_type": "stream",
     "text": [
      "Processing Record 1 of Set 1 | khanpur\n",
      "Processing Record 2 of Set 1 | bonavista\n",
      "Processing Record 3 of Set 1 | sentyabrskiy\n",
      "City not found. Skipping...\n",
      "Processing Record 4 of Set 1 | balkanabat\n",
      "Processing Record 5 of Set 1 | butaritari\n",
      "Processing Record 6 of Set 1 | vitim\n",
      "Processing Record 7 of Set 1 | petro-slavyanka\n",
      "Processing Record 8 of Set 1 | totness\n",
      "Processing Record 9 of Set 1 | east london\n",
      "Processing Record 10 of Set 1 | lompoc\n",
      "Processing Record 11 of Set 1 | naron\n",
      "Processing Record 12 of Set 1 | santa cruz\n",
      "Processing Record 13 of Set 1 | georgetown\n",
      "Processing Record 14 of Set 1 | igarka\n",
      "Processing Record 15 of Set 1 | todos santos\n",
      "Processing Record 16 of Set 1 | bethel\n",
      "Processing Record 17 of Set 1 | busselton\n",
      "Processing Record 18 of Set 1 | ushuaia\n",
      "Processing Record 19 of Set 1 | port alfred\n",
      "Processing Record 20 of Set 1 | hobart\n",
      "Processing Record 21 of Set 1 | hay river\n",
      "Processing Record 22 of Set 1 | coquimbo\n",
      "Processing Record 23 of Set 1 | caravelas\n",
      "Processing Record 24 of Set 1 | quelimane\n",
      "Processing Record 25 of Set 1 | tasiilaq\n",
      "Processing Record 26 of Set 1 | bambous virieux\n",
      "Processing Record 27 of Set 1 | tiksi\n",
      "Processing Record 28 of Set 1 | guerrero negro\n",
      "Processing Record 29 of Set 1 | acarau\n",
      "Processing Record 30 of Set 1 | toora-khem\n",
      "Processing Record 31 of Set 1 | jamestown\n",
      "Processing Record 32 of Set 1 | bluff\n",
      "Processing Record 33 of Set 1 | kapit\n",
      "Processing Record 34 of Set 1 | port blair\n",
      "Processing Record 35 of Set 1 | pisco\n",
      "Processing Record 36 of Set 1 | glubokoe\n",
      "City not found. Skipping...\n",
      "Processing Record 37 of Set 1 | punta arenas\n",
      "Processing Record 38 of Set 1 | meyungs\n",
      "City not found. Skipping...\n",
      "Processing Record 39 of Set 1 | roebourne\n",
      "Processing Record 40 of Set 1 | kapaa\n",
      "Processing Record 41 of Set 1 | albany\n",
      "Processing Record 42 of Set 1 | sungaipenuh\n",
      "Processing Record 43 of Set 1 | airai\n",
      "Processing Record 44 of Set 1 | zemio\n",
      "Processing Record 45 of Set 1 | jiddah\n",
      "City not found. Skipping...\n",
      "Processing Record 46 of Set 1 | saskylakh\n",
      "Processing Record 47 of Set 1 | tuktoyaktuk\n",
      "Processing Record 48 of Set 1 | babynino\n",
      "Processing Record 49 of Set 1 | mount gambier\n",
      "Processing Record 50 of Set 1 | inhambane\n",
      "Processing Record 1 of Set 2 | chuy\n",
      "Processing Record 2 of Set 2 | port-gentil\n",
      "Processing Record 3 of Set 2 | mataura\n",
      "Processing Record 4 of Set 2 | gangotri\n",
      "City not found. Skipping...\n",
      "Processing Record 5 of Set 2 | nanortalik\n",
      "Processing Record 6 of Set 2 | khatanga\n",
      "Processing Record 7 of Set 2 | beaverlodge\n",
      "Processing Record 8 of Set 2 | amazar\n",
      "Processing Record 9 of Set 2 | strezhevoy\n",
      "Processing Record 10 of Set 2 | cape town\n",
      "Processing Record 11 of Set 2 | clyde river\n",
      "Processing Record 12 of Set 2 | lebu\n",
      "Processing Record 13 of Set 2 | borba\n",
      "Processing Record 14 of Set 2 | yaan\n",
      "Processing Record 15 of Set 2 | hithadhoo\n",
      "Processing Record 16 of Set 2 | slubice\n",
      "Processing Record 17 of Set 2 | hilo\n",
      "Processing Record 18 of Set 2 | yongan\n",
      "Processing Record 19 of Set 2 | harper\n",
      "Processing Record 20 of Set 2 | nhulunbuy\n",
      "Processing Record 21 of Set 2 | sitka\n",
      "Processing Record 22 of Set 2 | vestmannaeyjar\n",
      "Processing Record 23 of Set 2 | daru\n",
      "Processing Record 24 of Set 2 | lata\n",
      "Processing Record 25 of Set 2 | avarua\n",
      "Processing Record 26 of Set 2 | touba\n",
      "Processing Record 27 of Set 2 | qaanaaq\n",
      "Processing Record 28 of Set 2 | carnarvon\n",
      "Processing Record 29 of Set 2 | cabo san lucas\n",
      "Processing Record 30 of Set 2 | ribeira brava\n",
      "Processing Record 31 of Set 2 | shubarkuduk\n",
      "Processing Record 32 of Set 2 | kruisfontein\n",
      "Processing Record 33 of Set 2 | opuwo\n",
      "Processing Record 34 of Set 2 | karlskrona\n",
      "Processing Record 35 of Set 2 | manggar\n",
      "Processing Record 36 of Set 2 | saint george\n",
      "Processing Record 37 of Set 2 | grand gaube\n",
      "Processing Record 38 of Set 2 | upernavik\n",
      "Processing Record 39 of Set 2 | geraldton\n",
      "City not found. Skipping...\n",
      "Processing Record 40 of Set 2 | rikitea\n",
      "Processing Record 41 of Set 2 | udachnyy\n"
     ]
    }
   ],
   "source": [
    "# Loop through all the cities in the list.\n",
    "for i, city in enumerate(cities):\n",
    "\n",
    "    # Group cities in sets of 50 for logging purposes.\n",
    "    if (i % 50 == 0 and i >= 50):\n",
    "        set_count += 1\n",
    "        record_count = 1\n",
    "        time.sleep(60)\n",
    "\n",
    "    # Create endpoint URL with each city.\n",
    "    city_url = url + \"&q=\" + city.replace(\" \",\"+\")\n",
    "\n",
    "    # Log the URL, record, and set numbers and the city.\n",
    "    print(f\"Processing Record {record_count} of Set {set_count} | {city}\")\n",
    "    # Add 1 to the record count.\n",
    "    record_count += 1\n",
    "    \n",
    "    # Run an API request for each of the cities.\n",
    "    try:\n",
    "        # Parse the JSON and retrieve data.\n",
    "        city_weather = requests.get(city_url).json()\n",
    "        # Parse out the needed data.\n",
    "        city_lat = city_weather[\"coord\"][\"lat\"]\n",
    "        city_lng = city_weather[\"coord\"][\"lon\"]\n",
    "        city_max_temp = city_weather[\"main\"][\"temp_max\"]\n",
    "        city_humidity = city_weather[\"main\"][\"humidity\"]\n",
    "        city_clouds = city_weather[\"clouds\"][\"all\"]\n",
    "        city_wind = city_weather[\"wind\"][\"speed\"]\n",
    "        city_country = city_weather[\"sys\"][\"country\"]\n",
    "        # Convert the date to ISO standard.\n",
    "        city_date = datetime.utcfromtimestamp(city_weather[\"dt\"]).strftime('%Y-%m-%d %H:%M:%S')\n",
    "        # Append the city information into city_data list.\n",
    "        city_data.append({\"City\": city.title(),\n",
    "                          \"Lat\": city_lat,\n",
    "                          \"Lng\": city_lng,\n",
    "                          \"Max Temp\": city_max_temp,\n",
    "                          \"Humidity\": city_humidity,\n",
    "                          \"Cloudiness\": city_clouds,\n",
    "                          \"Wind Speed\": city_wind,\n",
    "                          \"Country\": city_country,\n",
    "                          \"Date\": city_date})\n",
    "\n",
    "# If an error is experienced, skip the city.\n",
    "    except:\n",
    "        print(\"City not found. Skipping...\")\n",
    "        pass\n",
    "\n",
    "# Indicate that Data Loading is complete.\n",
    "print(\"-----------------------------\")\n",
    "print(\"Data Retrieval Complete      \")\n",
    "print(\"-----------------------------\")"
   ]
  },
  {
   "cell_type": "code",
   "execution_count": null,
   "id": "aa4ab1ea",
   "metadata": {},
   "outputs": [],
   "source": [
    "# Convert the array of dictionaries to a Pandas DataFrame.\n",
    "city_data_df = pd.DataFrame(city_data)\n",
    "city_data_df.head(10)"
   ]
  },
  {
   "cell_type": "code",
   "execution_count": null,
   "id": "8e234ef7",
   "metadata": {},
   "outputs": [],
   "source": []
  }
 ],
 "metadata": {
  "kernelspec": {
   "display_name": "PythonData",
   "language": "python",
   "name": "pythondata"
  },
  "language_info": {
   "codemirror_mode": {
    "name": "ipython",
    "version": 3
   },
   "file_extension": ".py",
   "mimetype": "text/x-python",
   "name": "python",
   "nbconvert_exporter": "python",
   "pygments_lexer": "ipython3",
   "version": "3.8.8"
  }
 },
 "nbformat": 4,
 "nbformat_minor": 5
}
