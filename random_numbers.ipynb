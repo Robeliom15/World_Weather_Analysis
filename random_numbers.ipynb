{
 "cells": [
  {
   "cell_type": "code",
   "execution_count": 1,
   "id": "c7d044db",
   "metadata": {},
   "outputs": [],
   "source": [
    "# import the random module\n",
    "import random"
   ]
  },
  {
   "cell_type": "code",
   "execution_count": 11,
   "id": "aaf9e646",
   "metadata": {},
   "outputs": [
    {
     "data": {
      "text/plain": [
       "2"
      ]
     },
     "execution_count": 11,
     "metadata": {},
     "output_type": "execute_result"
    }
   ],
   "source": [
    "random.randint(-90,90)"
   ]
  },
  {
   "cell_type": "code",
   "execution_count": 12,
   "id": "6a4d093f",
   "metadata": {},
   "outputs": [
    {
     "data": {
      "text/plain": [
       "0.1111297403940168"
      ]
     },
     "execution_count": 12,
     "metadata": {},
     "output_type": "execute_result"
    }
   ],
   "source": [
    "random.random()"
   ]
  },
  {
   "cell_type": "code",
   "execution_count": 14,
   "id": "9eebc8e3",
   "metadata": {},
   "outputs": [
    {
     "data": {
      "text/plain": [
       "59.08829680568204"
      ]
     },
     "execution_count": 14,
     "metadata": {},
     "output_type": "execute_result"
    }
   ],
   "source": [
    "random_number = random.randint(-90,90) + random.random()\n",
    "random_number"
   ]
  },
  {
   "cell_type": "code",
   "execution_count": 17,
   "id": "d8e2df55",
   "metadata": {},
   "outputs": [
    {
     "data": {
      "text/plain": [
       "[64.39691405492212,\n",
       " -43.24218370533136,\n",
       " 12.560700363376618,\n",
       " -39.44660789717438,\n",
       " -58.69857739940264,\n",
       " 68.39537165807994,\n",
       " -23.32073867159022,\n",
       " -7.835336366795177,\n",
       " -26.973912349979496,\n",
       " -71.50330954169897]"
      ]
     },
     "execution_count": 17,
     "metadata": {},
     "output_type": "execute_result"
    }
   ],
   "source": [
    "x = 1\n",
    "latitudes = []\n",
    "while x < 11:\n",
    "    random_lat = random.randint(-90,90) + random.random()\n",
    "    latitudes.append(random_lat)\n",
    "    x += 1\n",
    "latitudes"
   ]
  },
  {
   "cell_type": "code",
   "execution_count": 18,
   "id": "951c4bd3",
   "metadata": {},
   "outputs": [
    {
     "data": {
      "text/plain": [
       "-70"
      ]
     },
     "execution_count": 18,
     "metadata": {},
     "output_type": "execute_result"
    }
   ],
   "source": [
    "random.randrange(-90, 90, step = 1)"
   ]
  },
  {
   "cell_type": "code",
   "execution_count": 19,
   "id": "c8d5a2c0",
   "metadata": {},
   "outputs": [
    {
     "data": {
      "text/plain": [
       "-57"
      ]
     },
     "execution_count": 19,
     "metadata": {},
     "output_type": "execute_result"
    }
   ],
   "source": [
    "random.randrange(-90, 90, step = 3)"
   ]
  },
  {
   "cell_type": "code",
   "execution_count": 20,
   "id": "db57c280",
   "metadata": {},
   "outputs": [
    {
     "data": {
      "text/plain": [
       "44.968621266708084"
      ]
     },
     "execution_count": 20,
     "metadata": {},
     "output_type": "execute_result"
    }
   ],
   "source": [
    "random.uniform(-90, 90)"
   ]
  },
  {
   "cell_type": "code",
   "execution_count": 25,
   "id": "e259a39d",
   "metadata": {},
   "outputs": [
    {
     "data": {
      "text/plain": [
       "-30.88168144798145"
      ]
     },
     "execution_count": 25,
     "metadata": {},
     "output_type": "execute_result"
    }
   ],
   "source": [
    "# Import the numpy module\n",
    "import numpy as np\n",
    "import timeit\n",
    "np.random.uniform(-90.000, 90.000)"
   ]
  },
  {
   "cell_type": "code",
   "execution_count": 26,
   "id": "4684283d",
   "metadata": {},
   "outputs": [
    {
     "data": {
      "text/plain": [
       "array([ -8.7663908 ,  29.57482352,  30.35733388,  66.3165432 ,\n",
       "       -58.80320908,  -0.40463765,  85.38229525, -20.49962572,\n",
       "       -74.67246975,  77.84809229,  60.98307721,  25.4200257 ,\n",
       "        88.00739604, -63.08094669,  14.96469531, -74.82356111,\n",
       "         2.97139241,  -0.44169312,  24.44554989, -65.88268447,\n",
       "       -57.3690323 , -51.95733436,  -5.82114049, -75.03859898,\n",
       "        37.79731976,  21.92471838, -54.33037833,  -9.74293482,\n",
       "        89.66737297,  63.49134038, -72.98072579,  74.28045214,\n",
       "       -54.44884004,  73.80820991, -89.1280432 , -29.6688151 ,\n",
       "        78.78523586,   7.38675616,  46.22878062,  40.19122176,\n",
       "        59.61926587,  55.06866246,  66.65021165, -50.26036034,\n",
       "        74.19201459,  39.17019692,  12.60518825,  53.136801  ,\n",
       "       -62.00417848, -28.63535255])"
      ]
     },
     "execution_count": 26,
     "metadata": {},
     "output_type": "execute_result"
    }
   ],
   "source": [
    "np.random.uniform(-90.000, 90.000, size = 50)"
   ]
  },
  {
   "cell_type": "code",
   "execution_count": 30,
   "id": "e1b864b4",
   "metadata": {},
   "outputs": [
    {
     "name": "stdout",
     "output_type": "stream",
     "text": [
      "12.6 µs ± 88.4 ns per loop (mean ± std. dev. of 7 runs, 100000 loops each)\n"
     ]
    }
   ],
   "source": [
    "\n",
    "%timeit np.random.uniform(-90.000, 90.000, size=1500)"
   ]
  },
  {
   "cell_type": "code",
   "execution_count": 33,
   "id": "5ba37b7b",
   "metadata": {},
   "outputs": [
    {
     "name": "stdout",
     "output_type": "stream",
     "text": [
      "1.16 µs ± 12.9 ns per loop (mean ± std. dev. of 7 runs, 1000000 loops each)\n"
     ]
    }
   ],
   "source": [
    "def latitudes(size):\n",
    "    latitudes = []\n",
    "    x = 0\n",
    "    while x < (size):\n",
    "        random_lat = random.randint(-90, 90) * random.random()\n",
    "        latitudes.append(random_lat)\n",
    "        x <= 1\n",
    "        return latitudes\n",
    "# Call the function with 1500.\n",
    "%timeit latitudes(1500)"
   ]
  },
  {
   "cell_type": "code",
   "execution_count": null,
   "id": "90debaf3",
   "metadata": {},
   "outputs": [],
   "source": []
  }
 ],
 "metadata": {
  "kernelspec": {
   "display_name": "Python 3",
   "language": "python",
   "name": "python3"
  },
  "language_info": {
   "codemirror_mode": {
    "name": "ipython",
    "version": 3
   },
   "file_extension": ".py",
   "mimetype": "text/x-python",
   "name": "python",
   "nbconvert_exporter": "python",
   "pygments_lexer": "ipython3",
   "version": "3.7.10"
  }
 },
 "nbformat": 4,
 "nbformat_minor": 5
}
